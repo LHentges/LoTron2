{
 "cells": [
  {
   "cell_type": "code",
   "execution_count": 1,
   "metadata": {},
   "outputs": [
    {
     "name": "stderr",
     "output_type": "stream",
     "text": [
      "2023-10-30 17:45:53.071201: I tensorflow/tsl/cuda/cudart_stub.cc:28] Could not find cuda drivers on your machine, GPU will not be used.\n",
      "2023-10-30 17:45:54.380480: I tensorflow/tsl/cuda/cudart_stub.cc:28] Could not find cuda drivers on your machine, GPU will not be used.\n",
      "2023-10-30 17:45:54.381618: I tensorflow/core/platform/cpu_feature_guard.cc:182] This TensorFlow binary is optimized to use available CPU instructions in performance-critical operations.\n",
      "To enable the following instructions: AVX2 FMA, in other operations, rebuild TensorFlow with the appropriate compiler flags.\n",
      "2023-10-30 17:46:11.688142: W tensorflow/compiler/tf2tensorrt/utils/py_utils.cc:38] TF-TRT Warning: Could not find TensorRT\n"
     ]
    }
   ],
   "source": [
    "import lotronOnePointFive as lotron"
   ]
  },
  {
   "cell_type": "code",
   "execution_count": 2,
   "metadata": {},
   "outputs": [],
   "source": [
    "bigwig_file = '/project/Wellcome_Discovery/lhentges/atac_bigwigs/Don001_ATAC_d13.hg38.bw'\n",
    "model_weights = '/package/lanceotron/20210519/models/wide_and_deep_fully_trained_v5_03.h5'\n",
    "wide_scaler = '/package/lanceotron/20210519/standard_scaler/standard_scaler_wide_v5_03.p'\n",
    "deep_scaler = '/package/lanceotron/20210519/standard_scaler/standard_scaler_deep_v5_03.p'"
   ]
  },
  {
   "cell_type": "code",
   "execution_count": 3,
   "metadata": {},
   "outputs": [],
   "source": [
    "chrom = 'chr22'"
   ]
  },
  {
   "cell_type": "code",
   "execution_count": 4,
   "metadata": {},
   "outputs": [],
   "source": [
    "threshold_list = [2, 4, 6]\n",
    "background_list = [10**4, 10**5, 10**6]\n",
    "window_list = [200, 400, 600]\n",
    "threshold_cumulative_init = 9\n",
    "min_size = 50\n",
    "max_size = 500"
   ]
  },
  {
   "cell_type": "code",
   "execution_count": 5,
   "metadata": {},
   "outputs": [],
   "source": [
    "peaks_df = lotron.find_and_score_peaks_chrom(bigwig_file, threshold_cumulative_init, chrom, background_list, window_list, threshold_list, min_size, max_size, background_global_min=None, include_pvalues=True, wide_array_weights=wide_scaler, deep_array_weights=deep_scaler, model_weights_file=model_weights)"
   ]
  },
  {
   "cell_type": "code",
   "execution_count": 6,
   "metadata": {},
   "outputs": [
    {
     "data": {
      "text/html": [
       "<div>\n",
       "<style scoped>\n",
       "    .dataframe tbody tr th:only-of-type {\n",
       "        vertical-align: middle;\n",
       "    }\n",
       "\n",
       "    .dataframe tbody tr th {\n",
       "        vertical-align: top;\n",
       "    }\n",
       "\n",
       "    .dataframe thead th {\n",
       "        text-align: right;\n",
       "    }\n",
       "</style>\n",
       "<table border=\"1\" class=\"dataframe\">\n",
       "  <thead>\n",
       "    <tr style=\"text-align: right;\">\n",
       "      <th></th>\n",
       "      <th>Chromosome</th>\n",
       "      <th>Start</th>\n",
       "      <th>End</th>\n",
       "      <th>Summit</th>\n",
       "      <th>Overall_peak_score</th>\n",
       "      <th>Shape_score</th>\n",
       "      <th>Enrichment_score</th>\n",
       "      <th>Pvalue_chrom</th>\n",
       "      <th>Pvalue_10kb</th>\n",
       "      <th>Pvalue_20kb</th>\n",
       "      <th>Pvalue_30kb</th>\n",
       "      <th>Pvalue_40kb</th>\n",
       "      <th>Pvalue_50kb</th>\n",
       "      <th>Pvalue_60kb</th>\n",
       "      <th>Pvalue_70kb</th>\n",
       "      <th>Pvalue_80kb</th>\n",
       "      <th>Pvalue_90kb</th>\n",
       "      <th>Pvalue_100kb</th>\n",
       "    </tr>\n",
       "  </thead>\n",
       "  <tbody>\n",
       "    <tr>\n",
       "      <th>0</th>\n",
       "      <td>chr22</td>\n",
       "      <td>10536922</td>\n",
       "      <td>10537161</td>\n",
       "      <td>10536971</td>\n",
       "      <td>8.119419e-07</td>\n",
       "      <td>0.000035</td>\n",
       "      <td>0.011805</td>\n",
       "      <td>2.649636</td>\n",
       "      <td>0.669600</td>\n",
       "      <td>0.696791</td>\n",
       "      <td>0.721643</td>\n",
       "      <td>0.772098</td>\n",
       "      <td>0.806249</td>\n",
       "      <td>0.830503</td>\n",
       "      <td>0.851095</td>\n",
       "      <td>0.870602</td>\n",
       "      <td>0.884577</td>\n",
       "      <td>0.886997</td>\n",
       "    </tr>\n",
       "    <tr>\n",
       "      <th>1</th>\n",
       "      <td>chr22</td>\n",
       "      <td>10544673</td>\n",
       "      <td>10544807</td>\n",
       "      <td>10544714</td>\n",
       "      <td>5.782271e-07</td>\n",
       "      <td>0.000026</td>\n",
       "      <td>0.011481</td>\n",
       "      <td>2.649636</td>\n",
       "      <td>0.666536</td>\n",
       "      <td>0.671038</td>\n",
       "      <td>0.692416</td>\n",
       "      <td>0.728820</td>\n",
       "      <td>0.770528</td>\n",
       "      <td>0.798335</td>\n",
       "      <td>0.825081</td>\n",
       "      <td>0.844000</td>\n",
       "      <td>0.854083</td>\n",
       "      <td>0.868489</td>\n",
       "    </tr>\n",
       "    <tr>\n",
       "      <th>2</th>\n",
       "      <td>chr22</td>\n",
       "      <td>10597446</td>\n",
       "      <td>10597507</td>\n",
       "      <td>10597491</td>\n",
       "      <td>5.752520e-07</td>\n",
       "      <td>0.000004</td>\n",
       "      <td>0.010619</td>\n",
       "      <td>2.649636</td>\n",
       "      <td>0.721116</td>\n",
       "      <td>0.723735</td>\n",
       "      <td>0.722794</td>\n",
       "      <td>0.703121</td>\n",
       "      <td>0.708328</td>\n",
       "      <td>0.706630</td>\n",
       "      <td>0.707749</td>\n",
       "      <td>0.715298</td>\n",
       "      <td>0.715193</td>\n",
       "      <td>0.727645</td>\n",
       "    </tr>\n",
       "    <tr>\n",
       "      <th>3</th>\n",
       "      <td>chr22</td>\n",
       "      <td>10701964</td>\n",
       "      <td>10702077</td>\n",
       "      <td>10701994</td>\n",
       "      <td>1.951917e-04</td>\n",
       "      <td>0.098577</td>\n",
       "      <td>0.043494</td>\n",
       "      <td>8.726328</td>\n",
       "      <td>2.079011</td>\n",
       "      <td>1.639281</td>\n",
       "      <td>1.523593</td>\n",
       "      <td>1.571891</td>\n",
       "      <td>1.602135</td>\n",
       "      <td>1.602951</td>\n",
       "      <td>1.612331</td>\n",
       "      <td>1.599264</td>\n",
       "      <td>1.682566</td>\n",
       "      <td>1.780825</td>\n",
       "    </tr>\n",
       "    <tr>\n",
       "      <th>4</th>\n",
       "      <td>chr22</td>\n",
       "      <td>10717066</td>\n",
       "      <td>10717094</td>\n",
       "      <td>10717066</td>\n",
       "      <td>7.041316e-01</td>\n",
       "      <td>0.992549</td>\n",
       "      <td>0.014535</td>\n",
       "      <td>5.599977</td>\n",
       "      <td>0.549256</td>\n",
       "      <td>0.619367</td>\n",
       "      <td>0.708028</td>\n",
       "      <td>0.737098</td>\n",
       "      <td>0.770951</td>\n",
       "      <td>0.791768</td>\n",
       "      <td>0.819928</td>\n",
       "      <td>0.899710</td>\n",
       "      <td>0.964241</td>\n",
       "      <td>1.025998</td>\n",
       "    </tr>\n",
       "  </tbody>\n",
       "</table>\n",
       "</div>"
      ],
      "text/plain": [
       "  Chromosome     Start       End    Summit  Overall_peak_score  Shape_score  \\\n",
       "0      chr22  10536922  10537161  10536971        8.119419e-07     0.000035   \n",
       "1      chr22  10544673  10544807  10544714        5.782271e-07     0.000026   \n",
       "2      chr22  10597446  10597507  10597491        5.752520e-07     0.000004   \n",
       "3      chr22  10701964  10702077  10701994        1.951917e-04     0.098577   \n",
       "4      chr22  10717066  10717094  10717066        7.041316e-01     0.992549   \n",
       "\n",
       "   Enrichment_score  Pvalue_chrom  Pvalue_10kb  Pvalue_20kb  Pvalue_30kb  \\\n",
       "0          0.011805      2.649636     0.669600     0.696791     0.721643   \n",
       "1          0.011481      2.649636     0.666536     0.671038     0.692416   \n",
       "2          0.010619      2.649636     0.721116     0.723735     0.722794   \n",
       "3          0.043494      8.726328     2.079011     1.639281     1.523593   \n",
       "4          0.014535      5.599977     0.549256     0.619367     0.708028   \n",
       "\n",
       "   Pvalue_40kb  Pvalue_50kb  Pvalue_60kb  Pvalue_70kb  Pvalue_80kb  \\\n",
       "0     0.772098     0.806249     0.830503     0.851095     0.870602   \n",
       "1     0.728820     0.770528     0.798335     0.825081     0.844000   \n",
       "2     0.703121     0.708328     0.706630     0.707749     0.715298   \n",
       "3     1.571891     1.602135     1.602951     1.612331     1.599264   \n",
       "4     0.737098     0.770951     0.791768     0.819928     0.899710   \n",
       "\n",
       "   Pvalue_90kb  Pvalue_100kb  \n",
       "0     0.884577      0.886997  \n",
       "1     0.854083      0.868489  \n",
       "2     0.715193      0.727645  \n",
       "3     1.682566      1.780825  \n",
       "4     0.964241      1.025998  "
      ]
     },
     "execution_count": 6,
     "metadata": {},
     "output_type": "execute_result"
    }
   ],
   "source": [
    "peaks_df.head()"
   ]
  },
  {
   "cell_type": "code",
   "execution_count": 7,
   "metadata": {},
   "outputs": [],
   "source": [
    "peaks_genome_df = lotron.find_and_score_peaks_genome(bigwig_file, threshold_cumulative_init, background_list, window_list, threshold_list, min_size, max_size, background_global_min=None, include_pvalues=True, include_special_chromosomes=False, wide_array_weights=wide_scaler, deep_array_weights=deep_scaler, model_weights_file=model_weights)"
   ]
  },
  {
   "cell_type": "code",
   "execution_count": null,
   "metadata": {},
   "outputs": [],
   "source": [
    "peaks_genome_df.head()"
   ]
  },
  {
   "cell_type": "code",
   "execution_count": null,
   "metadata": {},
   "outputs": [],
   "source": []
  }
 ],
 "metadata": {
  "kernelspec": {
   "display_name": "Python 3",
   "language": "python",
   "name": "python3"
  },
  "language_info": {
   "codemirror_mode": {
    "name": "ipython",
    "version": 3
   },
   "file_extension": ".py",
   "mimetype": "text/x-python",
   "name": "python",
   "nbconvert_exporter": "python",
   "pygments_lexer": "ipython3",
   "version": "3.8.17"
  }
 },
 "nbformat": 4,
 "nbformat_minor": 2
}
